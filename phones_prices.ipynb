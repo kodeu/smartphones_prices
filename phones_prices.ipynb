{
  "nbformat": 4,
  "nbformat_minor": 0,
  "metadata": {
    "colab": {
      "provenance": [],
      "authorship_tag": "ABX9TyPkzOvzhIG34ApaVYw8oy+i",
      "include_colab_link": true
    },
    "kernelspec": {
      "name": "python3",
      "display_name": "Python 3"
    },
    "language_info": {
      "name": "python"
    }
  },
  "cells": [
    {
      "cell_type": "markdown",
      "metadata": {
        "id": "view-in-github",
        "colab_type": "text"
      },
      "source": [
        "<a href=\"https://colab.research.google.com/github/kodeu/smartphones_prices/blob/fnn/phones_prices.ipynb\" target=\"_parent\"><img src=\"https://colab.research.google.com/assets/colab-badge.svg\" alt=\"Open In Colab\"/></a>"
      ]
    },
    {
      "cell_type": "code",
      "execution_count": null,
      "metadata": {
        "id": "Glx-Pt3Rgx_x"
      },
      "outputs": [],
      "source": [
        "import tensorflow as tf\n",
        "from tensorflow.keras.models import Sequential\n",
        "from tensorflow.keras.layers import Dense\n",
        "\n",
        "# Example dataset dimensions\n",
        "# Suppose your dataset has 10 features\n",
        "input_features = 10\n",
        "\n",
        "# Create a Sequential model\n",
        "model = Sequential([\n",
        "    Dense(64, activation='relu', input_shape=(input_features,)),  # Input layer + first hidden layer\n",
        "    Dense(128, activation='relu'),  # Second hidden layer\n",
        "    Dense(128, activation='relu'),  # Third hidden layer\n",
        "    Dense(1, activation='linear')  # Output layer for regression\n",
        "])\n",
        "\n",
        "# Compile the model\n",
        "model.compile(optimizer='adam', loss='mean_squared_error')\n",
        "\n",
        "# Model summary to see the architecture\n",
        "print(model.summary())\n",
        "\n",
        "# Example training - replace X_train and y_train with your actual training data\n",
        "# X_train = your features matrix\n",
        "# y_train = your target prices\n",
        "# model.fit(X_train, y_train, epochs=50, batch_size=32, validation_split=0.2)\n"
      ]
    }
  ]
}